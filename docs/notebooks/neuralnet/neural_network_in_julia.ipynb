{
 "cells": [
  {
   "cell_type": "markdown",
   "metadata": {},
   "source": [
    "This notebook demonstrates building optimization formulations of neural networks using the JuMP modelling language.\n",
    "\n",
    "Each example uses a similar workflow to the Pyomo-based examples:\n",
    "- Use the `keras_reader` to import the neural network into a OMLT `NetworkDefinition` object.\n",
    "- Create a JuMP model with variables `x` and `y` where we intend to minimize `y`.\n",
    "- Create an `OmltBlock` with modelling language set to \"jump\".\n",
    "- Create a formulation object. \n",
    "- Build the formulation object on the `OmltBlock`.\n",
    "- Add constraints connecting `x` to the neural network input and `y` to the neural network output.\n",
    "- Solve with an optimization solver (this example uses ?????).\n",
    "- Query the solution."
   ]
  },
  {
   "cell_type": "code",
   "execution_count": 1,
   "metadata": {},
   "outputs": [
    {
     "data": {
      "text/plain": [
       "\"Null\""
      ]
     },
     "execution_count": 1,
     "metadata": {},
     "output_type": "execute_result"
    }
   ],
   "source": [
    "ENV[\"JULIA_CONDAPKG_BACKEND\"] = \"Null\"\n",
    "# ENV[\"JULIA_PYTHONCALL_EXE\"] = \"/workspaces/OMLT/venv/bin/python3\"\n",
    "# ENV[\"JULIA_PYTHONCALL_LIB\"] = \"/workspaces/OMLT/venv/lib/libpython3.12.so\"\n",
    "\n",
    "# ENV[\"JULIA_PYTHONCALL_EXE\"] = \"/home/codespace/.python/current/bin/python\"\n",
    "# ENV[\"JULIA_PYTHONCALL_LIB\"] = \"/home/codespace/.python/current/lib/libpython3.10.a\"\n",
    "\n",
    "\n",
    "# ENV[\"JULIA_PYTHONCALL_EXE\"] = \"/usr/local/python/3.10.13/bin/python\"\n",
    "# ENV[\"JULIA_PYTHONCALL_LIB\"] = \"/usr/local/python/3.10.13/lib/libpython3.10.a\"\n"
   ]
  },
  {
   "cell_type": "code",
   "execution_count": 2,
   "metadata": {},
   "outputs": [
    {
     "name": "stderr",
     "output_type": "stream",
     "text": [
      "\u001b[33m\u001b[1m┌ \u001b[22m\u001b[39m\u001b[33m\u001b[1mWarning: \u001b[22m\u001b[39mPython library \"/usr/local/python/3.10.13/lib/python3.10/config-3.10-x86_64-linux-gnu/libpython3.10.a\" could not be opened.\n",
      "\u001b[33m\u001b[1m└ \u001b[22m\u001b[39m\u001b[90m@ PythonCall.C ~/.julia/packages/PythonCall/flx5V/src/C/context.jl:122\u001b[39m\n",
      "\u001b[33m\u001b[1m┌ \u001b[22m\u001b[39m\u001b[33m\u001b[1mWarning: \u001b[22m\u001b[39mPython library \"/usr/local/python/3.10.13/lib/libpython3.10.a\" could not be opened.\n",
      "\u001b[33m\u001b[1m└ \u001b[22m\u001b[39m\u001b[90m@ PythonCall.C ~/.julia/packages/PythonCall/flx5V/src/C/context.jl:122\u001b[39m\n"
     ]
    },
    {
     "ename": "LoadError",
     "evalue": "InitError: Could not find Python library for Python executable \"/home/codespace/.python/current/bin/python\".\n\nIf you know where the library is, set environment variable 'JULIA_PYTHONCALL_LIB' to its path.\n\nduring initialization of module C",
     "output_type": "error",
     "traceback": [
      "InitError: Could not find Python library for Python executable \"/home/codespace/.python/current/bin/python\".\n\nIf you know where the library is, set environment variable 'JULIA_PYTHONCALL_LIB' to its path.\n\nduring initialization of module C",
      "",
      "Stacktrace:",
      "  [1] error(s::String)",
      "    @ Base ./error.jl:35",
      "  [2] init_context()",
      "    @ PythonCall.C ~/.julia/packages/PythonCall/flx5V/src/C/context.jl:129",
      "  [3] __init__()",
      "    @ PythonCall.C ~/.julia/packages/PythonCall/flx5V/src/C/C.jl:23",
      "  [4] run_module_init(mod::Module, i::Int64)",
      "    @ Base ./loading.jl:1134",
      "  [5] register_restored_modules(sv::Core.SimpleVector, pkg::Base.PkgId, path::String)",
      "    @ Base ./loading.jl:1122",
      "  [6] _include_from_serialized(pkg::Base.PkgId, path::String, ocachepath::String, depmods::Vector{Any})",
      "    @ Base ./loading.jl:1067",
      "  [7] _require_search_from_serialized(pkg::Base.PkgId, sourcepath::String, build_id::UInt128)",
      "    @ Base ./loading.jl:1581",
      "  [8] _require(pkg::Base.PkgId, env::String)",
      "    @ Base ./loading.jl:1938",
      "  [9] __require_prelocked(uuidkey::Base.PkgId, env::String)",
      "    @ Base ./loading.jl:1812",
      " [10] #invoke_in_world#3",
      "    @ ./essentials.jl:926 [inlined]",
      " [11] invoke_in_world",
      "    @ ./essentials.jl:923 [inlined]",
      " [12] _require_prelocked(uuidkey::Base.PkgId, env::String)",
      "    @ Base ./loading.jl:1803",
      " [13] macro expansion",
      "    @ ./loading.jl:1790 [inlined]",
      " [14] macro expansion",
      "    @ ./lock.jl:267 [inlined]",
      " [15] __require(into::Module, mod::Symbol)",
      "    @ Base ./loading.jl:1753",
      " [16] #invoke_in_world#3",
      "    @ ./essentials.jl:926 [inlined]",
      " [17] invoke_in_world",
      "    @ ./essentials.jl:923 [inlined]",
      " [18] require(into::Module, mod::Symbol)",
      "    @ Base ./loading.jl:1746"
     ]
    }
   ],
   "source": [
    "using PythonCall\n",
    "omlt = pyimport(\"omlt\")"
   ]
  },
  {
   "cell_type": "code",
   "execution_count": null,
   "metadata": {},
   "outputs": [],
   "source": [
    "using PythonCall"
   ]
  },
  {
   "cell_type": "code",
   "execution_count": null,
   "metadata": {},
   "outputs": [],
   "source": []
  }
 ],
 "metadata": {
  "kernelspec": {
   "display_name": "Julia 1.10.4",
   "language": "julia",
   "name": "julia-1.10"
  },
  "language_info": {
   "file_extension": ".jl",
   "mimetype": "application/julia",
   "name": "julia",
   "version": "1.10.4"
  }
 },
 "nbformat": 4,
 "nbformat_minor": 2
}
