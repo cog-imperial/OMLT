{
 "cells": [
  {
   "cell_type": "markdown",
   "metadata": {},
   "source": [
    "This notebook demonstrates building optimization formulations of neural networks using the JuMP modelling language.\n",
    "\n",
    "Each example uses a similar workflow to the Pyomo-based examples:\n",
    "- Create an `OmltBlockJuMP` as our model.\n",
    "- Add variables `x` and `y` where we intend to minimize `y`.\n",
    "- Use the ONNX parser to import the neural network into a OMLT `NetworkDefinition` object.\n",
    "- Create a formulation object. \n",
    "- Build the formulation object on the `OmltBlockJuMP`.\n",
    "- Add constraints connecting `x` to the neural network input and `y` to the neural network output.\n",
    "- Solve with an optimization solver (this example uses Ipopt).\n",
    "- Query the solution."
   ]
  },
  {
   "cell_type": "markdown",
   "metadata": {},
   "source": [
    "### Import necessary packages:"
   ]
  },
  {
   "cell_type": "code",
   "execution_count": 1,
   "metadata": {},
   "outputs": [
    {
     "name": "stderr",
     "output_type": "stream",
     "text": [
      "\u001b[32m\u001b[1m   Resolving\u001b[22m\u001b[39m package versions...\n",
      "\u001b[32m\u001b[1m  No Changes\u001b[22m\u001b[39m to `~/.julia/environments/v1.10/Project.toml`\n",
      "\u001b[32m\u001b[1m  No Changes\u001b[22m\u001b[39m to `~/.julia/environments/v1.10/Manifest.toml`\n"
     ]
    },
    {
     "data": {
      "text/plain": [
       "Python: <module 'onnx' from '/home/codespace/.julia/environments/v1.10/.CondaPkg/env/lib/python3.12/site-packages/onnx/__init__.py'>"
      ]
     },
     "execution_count": 1,
     "metadata": {},
     "output_type": "execute_result"
    }
   ],
   "source": [
    "using PythonCall\n",
    "using JuMP\n",
    "using Ipopt\n",
    "using HiGHS\n",
    "\n",
    "omlt = pyimport(\"omlt\")\n",
    "omlt_julia = pyimport(\"omlt.base.julia\")\n",
    "omlt_io = pyimport(\"omlt.io\")\n",
    "omlt_nn = pyimport(\"omlt.neuralnet\")\n",
    "\n",
    "onnx_py = pyimport(\"onnx\")\n"
   ]
  },
  {
   "cell_type": "markdown",
   "metadata": {},
   "source": [
    "## Full Space Smooth formulation\n",
    "### Create a model and add `x` and `y` variables and an objective."
   ]
  },
  {
   "cell_type": "code",
   "execution_count": 2,
   "metadata": {},
   "outputs": [
    {
     "data": {
      "text/latex": [
       "$ y $"
      ],
      "text/plain": [
       "y"
      ]
     },
     "execution_count": 2,
     "metadata": {},
     "output_type": "execute_result"
    }
   ],
   "source": [
    "fs_model = omlt_julia.OmltBlockJuMP()\n",
    "fs_model.set_optimizer(Ipopt.Optimizer)\n",
    "\n",
    "jump_model = pyconvert(Model, fs_model.get_model())\n",
    "\n",
    "@variable(jump_model, x)\n",
    "@variable(jump_model, y)\n",
    "@objective(jump_model, Min, y)"
   ]
  },
  {
   "cell_type": "markdown",
   "metadata": {},
   "source": [
    "#### Create a scaler object, import an ONNX model, and create a Full Space Smooth formulation object from the model and scaler."
   ]
  },
  {
   "cell_type": "code",
   "execution_count": 3,
   "metadata": {},
   "outputs": [
    {
     "data": {
      "text/plain": [
       "Python: <omlt.neuralnet.nn_formulation.FullSpaceSmoothNNFormulation object at 0x749ea7111490>"
      ]
     },
     "execution_count": 3,
     "metadata": {},
     "output_type": "execute_result"
    }
   ],
   "source": [
    "scale_x = (1, 0.5)\n",
    "scale_y = (-0.25, 0.125)\n",
    "\n",
    "scaler = omlt.OffsetScaling(\n",
    "    offset_inputs=[scale_x[1]],\n",
    "    factor_inputs=[scale_x[2]],\n",
    "    offset_outputs=[scale_y[1]],\n",
    "    factor_outputs=[scale_y[2]]\n",
    ")\n",
    "scaled_input_bounds = Dict(0 => (0,5))\n",
    "\n",
    "path = \"/workspaces/OMLT/tests/models/keras_linear_131_sigmoid.onnx\"\n",
    "\n",
    "py_model = onnx_py.load(path)\n",
    "net = omlt_io.load_onnx_neural_network(py_model, scaler, scaled_input_bounds)\n",
    "formulation = omlt_nn.FullSpaceSmoothNNFormulation(net)"
   ]
  },
  {
   "cell_type": "markdown",
   "metadata": {},
   "source": [
    "### Build the formulation onto the model."
   ]
  },
  {
   "cell_type": "code",
   "execution_count": 4,
   "metadata": {},
   "outputs": [
    {
     "data": {
      "text/plain": [
       "Python: None"
      ]
     },
     "execution_count": 4,
     "metadata": {},
     "output_type": "execute_result"
    }
   ],
   "source": [
    "fs_model.build_formulation(formulation)"
   ]
  },
  {
   "cell_type": "markdown",
   "metadata": {},
   "source": [
    "### Connect the `x` and `y` variables to the inputs and outputs of the neural network."
   ]
  },
  {
   "cell_type": "code",
   "execution_count": 5,
   "metadata": {},
   "outputs": [
    {
     "data": {
      "text/latex": [
       "$$ y - outputs\\_0 = 0 $$"
      ],
      "text/plain": [
       "y - outputs_0 = 0"
      ]
     },
     "execution_count": 5,
     "metadata": {},
     "output_type": "execute_result"
    }
   ],
   "source": [
    "@constraint(jump_model, x == pyconvert(VariableRef, fs_model._varrefs[\"inputs_0\"]))\n",
    "@constraint(jump_model, y == pyconvert(VariableRef, fs_model._varrefs[\"outputs_0\"]))"
   ]
  },
  {
   "cell_type": "markdown",
   "metadata": {},
   "source": [
    "### Solve the model."
   ]
  },
  {
   "cell_type": "code",
   "execution_count": 6,
   "metadata": {},
   "outputs": [
    {
     "name": "stdout",
     "output_type": "stream",
     "text": [
      "\n",
      "******************************************************************************\n",
      "This program contains Ipopt, a library for large-scale nonlinear optimization.\n",
      " Ipopt is released as open source code under the Eclipse Public License (EPL).\n",
      "         For more information visit https://github.com/coin-or/Ipopt\n",
      "******************************************************************************\n",
      "\n",
      "This is Ipopt version 3.14.16, running with linear solver MUMPS 5.7.3.\n",
      "\n",
      "Number of nonzeros in equality constraint Jacobian...:       30\n",
      "Number of nonzeros in inequality constraint Jacobian.:        0\n",
      "Number of nonzeros in Lagrangian Hessian.............:        3\n",
      "\n",
      "Total number of variables............................:       15\n",
      "                     variables with only lower bounds:        0\n",
      "                variables with lower and upper bounds:        1\n",
      "                     variables with only upper bounds:        0\n",
      "Total number of equality constraints.................:       14\n",
      "Total number of inequality constraints...............:        0\n",
      "        inequality constraints with only lower bounds:        0\n",
      "   inequality constraints with lower and upper bounds:        0\n",
      "        inequality constraints with only upper bounds:        0\n",
      "\n",
      "iter    objective    inf_pr   inf_du lg(mu)  ||d||  lg(rg) alpha_du alpha_pr  ls\n",
      "   0  0.0000000e+00 2.01e+00 1.44e-02  -1.0 0.00e+00    -  0.00e+00 0.00e+00   0\n",
      "   1 -2.3935495e-01 3.22e-05 6.64e-05  -1.0 1.05e+00    -  1.00e+00 1.00e+00h  1\n",
      "   2 -2.4804144e-01 1.68e-04 1.15e-04  -2.5 1.39e-01    -  9.98e-01 1.00e+00h  1\n",
      "   3 -2.5326495e-01 1.05e-04 4.16e-05  -3.8 8.49e-02    -  1.00e+00 1.00e+00h  1\n",
      "   4 -2.5345761e-01 2.14e-07 7.00e-08  -5.7 3.52e-03    -  1.00e+00 1.00e+00h  1\n",
      "   5 -2.5345991e-01 2.56e-11 8.30e-12  -8.6 3.84e-05    -  1.00e+00 1.00e+00h  1\n",
      "\n",
      "Number of Iterations....: 5\n",
      "\n",
      "                                   (scaled)                 (unscaled)\n",
      "Objective...............:  -2.5345991415819730e-01   -2.5345991415819730e-01\n",
      "Dual infeasibility......:   8.3048949661712612e-12    8.3048949661712612e-12\n",
      "Constraint violation....:   2.5586199825511358e-11    2.5586199825511358e-11\n",
      "Variable bound violation:   0.0000000000000000e+00    0.0000000000000000e+00\n",
      "Complementarity.........:   2.5309779226194557e-09    2.5309779226194557e-09\n",
      "Overall NLP error.......:   2.5309779226194557e-09    2.5309779226194557e-09\n",
      "\n",
      "\n",
      "Number of objective function evaluations             = 6\n",
      "Number of objective gradient evaluations             = 6\n",
      "Number of equality constraint evaluations            = 6\n",
      "Number of inequality constraint evaluations          = 0\n",
      "Number of equality constraint Jacobian evaluations   = 6\n",
      "Number of inequality constraint Jacobian evaluations = 0\n",
      "Number of Lagrangian Hessian evaluations             = 5\n",
      "Total seconds in IPOPT                               = 0.013\n",
      "\n",
      "EXIT: Optimal Solution Found.\n"
     ]
    }
   ],
   "source": [
    "optimize!(jump_model)"
   ]
  },
  {
   "cell_type": "markdown",
   "metadata": {},
   "source": [
    "### Examine the solution."
   ]
  },
  {
   "cell_type": "code",
   "execution_count": 7,
   "metadata": {},
   "outputs": [
    {
     "name": "stdout",
     "output_type": "stream",
     "text": [
      "Full Space Solution:\n",
      "# of variables: 15\n",
      "# of constraints: 14\n",
      "x = 1.0000000048214603\n",
      "y = -0.2534599141581973\n",
      "Solve Time: 0.05983304977416992\n"
     ]
    }
   ],
   "source": [
    "println(\"Full Space Solution:\")\n",
    "println(\"# of variables: \", num_variables(jump_model))\n",
    "println(\"# of constraints: \", num_constraints(jump_model, count_variable_in_set_constraints=false))\n",
    "println(\"x = \", value(x))\n",
    "println(\"y = \", value(y))\n",
    "println(\"Solve Time: \", solve_time(jump_model))"
   ]
  },
  {
   "cell_type": "markdown",
   "metadata": {},
   "source": [
    "## ReLU Partition-Based Formulation\n",
    "\n",
    "Do the same things, but for a model with ReLU activation."
   ]
  },
  {
   "cell_type": "code",
   "execution_count": 8,
   "metadata": {},
   "outputs": [
    {
     "data": {
      "text/plain": [
       "Python: None"
      ]
     },
     "execution_count": 8,
     "metadata": {},
     "output_type": "execute_result"
    }
   ],
   "source": [
    "rp_model = omlt_julia.OmltBlockJuMP()\n",
    "rp_model.set_optimizer(HiGHS.Optimizer)\n",
    "\n",
    "jump_model = pyconvert(Model, rp_model.get_model())\n",
    "\n",
    "@variable(jump_model, x)\n",
    "@variable(jump_model, y)\n",
    "@objective(jump_model, Min, y)\n",
    "\n",
    "scale_x = (1, 0.5)\n",
    "scale_y = (-0.25, 0.125)\n",
    "\n",
    "scaler = omlt.OffsetScaling(\n",
    "    offset_inputs=[scale_x[1]],\n",
    "    factor_inputs=[scale_x[2]],\n",
    "    offset_outputs=[scale_y[1]],\n",
    "    factor_outputs=[scale_y[2]]\n",
    ")\n",
    "scaled_input_bounds = Dict(0 => (0,5))\n",
    "\n",
    "path = \"/workspaces/OMLT/tests/models/keras_linear_131_relu.onnx\"\n",
    "\n",
    "py_model = onnx_py.load(path)\n",
    "net = omlt_io.load_onnx_neural_network(py_model, scaler, scaled_input_bounds)\n",
    "formulation = omlt_nn.ReluPartitionFormulation(net)\n",
    "\n",
    "rp_model.build_formulation(formulation)"
   ]
  },
  {
   "cell_type": "code",
   "execution_count": 9,
   "metadata": {},
   "outputs": [
    {
     "name": "stdout",
     "output_type": "stream",
     "text": [
      "Running HiGHS 1.8.0 (git hash: fcfb534146): Copyright (c) 2024 HiGHS under MIT licence terms\n",
      "Coefficient ranges:\n",
      "  Matrix [1e-01, 3e+00]\n",
      "  Cost   [1e+00, 1e+00]\n",
      "  Bound  [1e+00, 5e+00]\n",
      "  RHS    [2e-01, 3e+00]\n",
      "Presolving model\n",
      "18 rows, 10 cols, 45 nonzeros  0s\n",
      "13 rows, 5 cols, 26 nonzeros  0s\n",
      "7 rows, 5 cols, 16 nonzeros  0s\n",
      "5 rows, 3 cols, 12 nonzeros  0s\n",
      "\n",
      "Solving MIP model with:\n",
      "   5 rows\n",
      "   3 cols (1 binary, 0 integer, 0 implied int., 2 continuous)\n",
      "   12 nonzeros\n",
      "\n",
      "        Nodes      |    B&B Tree     |            Objective Bounds              |  Dynamic Constraints |       Work      \n",
      "     Proc. InQueue |  Leaves   Expl. | BestBound       BestSol              Gap |   Cuts   InLp Confl. | LpIters     Time\n",
      "\n",
      "         0       0         0   0.00%   -0.2550872506   inf                  inf        0      0      0         0     0.0s\n",
      "         1       0         1 100.00%   -0.2510967209   -0.2510967209      0.00%        0      0      0         2     0.0s\n",
      "\n",
      "Solving report\n",
      "  Status            Optimal\n",
      "  Primal bound      -0.251096720924\n",
      "  Dual bound        -0.251096720924\n",
      "  Gap               0% (tolerance: 0.01%)\n",
      "  Solution status   feasible\n",
      "                    -0.251096720924 (objective)\n",
      "                    0 (bound viol.)\n",
      "                    0 (int. viol.)\n",
      "                    0 (row viol.)\n",
      "  Timing            0.00 (total)\n",
      "                    0.00 (presolve)\n",
      "                    0.00 (postsolve)\n",
      "  Nodes             1\n",
      "  LP iterations     2 (total)\n",
      "                    0 (strong br.)\n",
      "                    0 (separation)\n",
      "                    0 (heuristics)\n"
     ]
    }
   ],
   "source": [
    "@constraint(jump_model, x == pyconvert(VariableRef, rp_model._varrefs[\"inputs_0\"]))\n",
    "@constraint(jump_model, y == pyconvert(VariableRef, rp_model._varrefs[\"outputs_0\"]))\n",
    "\n",
    "optimize!(jump_model)"
   ]
  },
  {
   "cell_type": "code",
   "execution_count": 10,
   "metadata": {},
   "outputs": [
    {
     "name": "stdout",
     "output_type": "stream",
     "text": [
      "Partition-based Solution:\n",
      "# of variables: 21\n",
      "# of constraints: 29\n",
      "x = 1.0\n",
      "y = -0.2510967209242938\n",
      "Solve Time: 0.0015048980712890625\n"
     ]
    }
   ],
   "source": [
    "println(\"Partition-based Solution:\")\n",
    "println(\"# of variables: \", num_variables(jump_model))\n",
    "println(\"# of constraints: \", num_constraints(jump_model, count_variable_in_set_constraints=false))\n",
    "println(\"x = \", value(x))\n",
    "println(\"y = \", value(y))\n",
    "println(\"Solve Time: \", solve_time(jump_model))"
   ]
  },
  {
   "cell_type": "markdown",
   "metadata": {},
   "source": [
    "Additional ways to look at the model and solution:"
   ]
  },
  {
   "cell_type": "code",
   "execution_count": 11,
   "metadata": {},
   "outputs": [
    {
     "data": {
      "text/plain": [
       "A JuMP Model\n",
       "├ solver: HiGHS\n",
       "├ objective_sense: MIN_SENSE\n",
       "│ └ objective_function_type: VariableRef\n",
       "├ num_variables: 21\n",
       "├ num_constraints: 34\n",
       "│ ├ AffExpr in MOI.EqualTo{Float64}: 11\n",
       "│ ├ AffExpr in MOI.GreaterThan{Float64}: 9\n",
       "│ ├ AffExpr in MOI.LessThan{Float64}: 9\n",
       "│ ├ VariableRef in MOI.GreaterThan{Float64}: 1\n",
       "│ ├ VariableRef in MOI.LessThan{Float64}: 1\n",
       "│ └ VariableRef in MOI.ZeroOne: 3\n",
       "└ Names registered in the model\n",
       "  └ :x, :y"
      ]
     },
     "execution_count": 11,
     "metadata": {},
     "output_type": "execute_result"
    }
   ],
   "source": [
    "jump_model"
   ]
  },
  {
   "cell_type": "code",
   "execution_count": 12,
   "metadata": {},
   "outputs": [
    {
     "data": {
      "text/plain": [
       "21-element Vector{VariableRef}:\n",
       " x\n",
       " y\n",
       " inputs_0\n",
       " outputs_0\n",
       " scaled_inputs_0\n",
       " scaled_outputs_0\n",
       " layer_128224756400048_z_(0,)\n",
       " layer_128224754001408_z_(0,)\n",
       " layer_128224754001408_z_(1,)\n",
       " layer_128224754001408_z_(2,)\n",
       " layer_128224754001408_zhat_(0,)\n",
       " layer_128224754001408_zhat_(1,)\n",
       " layer_128224754001408_zhat_(2,)\n",
       " layer_128224756396496_z_(0,)\n",
       " layer_128224756396496_zhat_(0,)\n",
       " layer_128224754001408_output_node_block_(0,)_sig\n",
       " layer_128224754001408_output_node_block_(0,)_z2_0\n",
       " layer_128224754001408_output_node_block_(1,)_sig\n",
       " layer_128224754001408_output_node_block_(1,)_z2_0\n",
       " layer_128224754001408_output_node_block_(2,)_sig\n",
       " layer_128224754001408_output_node_block_(2,)_z2_0"
      ]
     },
     "execution_count": 12,
     "metadata": {},
     "output_type": "execute_result"
    }
   ],
   "source": [
    "all_variables(jump_model)"
   ]
  },
  {
   "cell_type": "code",
   "execution_count": null,
   "metadata": {},
   "outputs": [],
   "source": [
    "all_constraints(jump_model,include_variable_in_set_constraints=true)"
   ]
  },
  {
   "cell_type": "code",
   "execution_count": null,
   "metadata": {},
   "outputs": [],
   "source": [
    "solution_summary(jump_model)"
   ]
  }
 ],
 "metadata": {
  "kernelspec": {
   "display_name": "Julia 1.10.4",
   "language": "julia",
   "name": "julia-1.10"
  },
  "language_info": {
   "file_extension": ".jl",
   "mimetype": "application/julia",
   "name": "julia",
   "version": "1.10.4"
  }
 },
 "nbformat": 4,
 "nbformat_minor": 2
}
