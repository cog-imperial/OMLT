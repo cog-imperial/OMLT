{
 "cells": [
  {
   "cell_type": "markdown",
   "metadata": {
    "pycharm": {
     "name": "#%% md\n"
    }
   },
   "source": [
    "# ML Surrogates for Chemical Processes with OMLT\n",
    "This notebook illustrates the use of TensorFlow Keras and OMLT to produce an ML surrogate based on data from a chemical process flowsheet.\n",
    "\n",
    "There are several reasons to build surrogate models for complex processes, even when higher fidelity models already exist (e.g., reduce model size, improve convergence reliability, replace models with externally compiled code and make them fully-equation oriented).\n",
    "\n",
    "In this example, we have an existing model for an auto-thermal reformer flowsheet that has been built using the IDAES-PSE package. IDAES-PSE is a Python package that is built on Pyomo and provides a framework for equation-oriented modeling and analysis of advanced energy systems. We use this package to generate data for our systems, and then we utilize this data in an optimization problem with OMLT. To learn more about IDAES, see the [IDAES-PSE Github Page](https://github.com/IDAES/IDAES-PSE) or [IDAES Read-the-docs](https://idaes-pse.readthedocs.io/en/stable/)."
   ]
  },
  {
   "cell_type": "markdown",
   "metadata": {
    "pycharm": {
     "name": "#%% md\n"
    }
   },
   "source": [
    "## The Auto-thermal Reformer Process\n",
    "\n",
    "The figure below shows the reformer process as modeled in IDAES.\n",
    "\n",
    "![Reformer Flowsheet](../images/reformer.png)\n",
    "\n",
    "This model has 12 outputs of interest, the steam flowrate, the reformer duty, and the properties of the outlet stream, including temperature, pressure, and composition. We are interested modeling how these outputs change as a function of two operating (or input) variables: \n",
    "- the fraction of natural gas that bypasses the reformer\n",
    "- steam to natural gas flow ratio\n",
    "\n",
    "We have already used IDAES to generate a CSV file that contains the input and output data for 2800 data points for our system.\n",
    "\n",
    "In this example, we will train a neural network model with sigmoid activations from our process data and then demonstrate that we can solve an optimization problem with that surrogate model. In realistic applications, this surrogate model would form part of a design or operations problem with a much larger flowsheet. "
   ]
  },
  {
   "cell_type": "markdown",
   "metadata": {},
   "source": [
    "## Library Setup\n",
    "This notebook assumes you have a working Tensorflow environment in addition to necessary Python packages described here. We use Keras to train neural networks of interest for our example which requires the Python Tensorflow package. The neural networks are then formulated in Pyomo using OMLT which therefore requires working Pyomo and OMLT installations.\n",
    "\n",
    "The required Python libraries used this notebook are as follows: <br>\n",
    "- `pandas`: used for data import and management <br>\n",
    "- `tensorflow`: the machine learning language we use to train our neural network\n",
    "- `pyomo`: the algebraic modeling language for Python, it is used to define the optimization model passed to the solver\n",
    "- `onnx`: used to express trained neural network models\n",
    "- `omlt`: The package this notebook demonstates. OMLT can formulate machine learning models (such as neural networks) within Pyomo\n",
    "\n",
    "**NOTE:** This notebook also assumes you have a working MIP solver executable (e.g., CBC, Gurobi) to solve optimization problems in Pyomo. The open-source solver IPOPT is called by default."
   ]
  },
  {
   "cell_type": "code",
   "execution_count": 22,
   "metadata": {
    "pycharm": {
     "name": "#%%\n"
    }
   },
   "outputs": [],
   "source": [
    "import os\n",
    "\n",
    "os.environ[\"TF_CPP_MIN_LOG_LEVEL\"] = \"2\"  # suppress CUDA warnings from tensorflow\n",
    "\n",
    "# import the necessary packages\n",
    "import pandas as pd\n",
    "import pyomo.environ as pyo\n",
    "from tensorflow import keras\n",
    "from tensorflow.keras.layers import Dense\n",
    "from tensorflow.keras.models import Sequential\n",
    "from tensorflow.keras.optimizers import Adam\n",
    "\n",
    "from omlt import OffsetScaling, OmltBlock\n",
    "from omlt.io.keras import load_keras_sequential\n",
    "from omlt.neuralnet import FullSpaceSmoothNNFormulation"
   ]
  },
  {
   "cell_type": "code",
   "execution_count": 23,
   "metadata": {
    "pycharm": {
     "name": "#%%\n"
    }
   },
   "outputs": [
    {
     "name": "stdout",
     "output_type": "stream",
     "text": [
      "      Bypass Fraction  NG Steam Ratio  Steam Flow  Reformer Duty        AR  \\\n",
      "0                 0.8        0.800000    0.193898    9806.732716  0.002662   \n",
      "1                 0.8        0.810526    0.196449    9846.047501  0.002660   \n",
      "2                 0.8        0.821053    0.199000    9885.419259  0.002657   \n",
      "3                 0.8        0.831579    0.201552    9924.849127  0.002654   \n",
      "4                 0.8        0.842105    0.204103    9964.338177  0.002651   \n",
      "...               ...             ...         ...            ...       ...   \n",
      "2795              0.1        1.157895    1.262887   39771.876388  0.004086   \n",
      "2796              0.1        1.168421    1.274368   39989.582852  0.004080   \n",
      "2797              0.1        1.178947    1.285849   40207.531167  0.004073   \n",
      "2798              0.1        1.189474    1.297330   40425.721366  0.004067   \n",
      "2799              0.1        1.200000    1.308811   40644.153425  0.004060   \n",
      "\n",
      "          C2H6      C3H8     C4H10       CH4        CO       CO2        H2  \\\n",
      "0     0.012120  0.002651  0.001515  0.369276  0.073971  0.032251  0.208494   \n",
      "1     0.012107  0.002648  0.001513  0.368883  0.073684  0.032432  0.208507   \n",
      "2     0.012094  0.002646  0.001512  0.368491  0.073398  0.032612  0.208519   \n",
      "3     0.012082  0.002643  0.001510  0.368100  0.073114  0.032791  0.208529   \n",
      "4     0.012069  0.002640  0.001509  0.367710  0.072832  0.032968  0.208537   \n",
      "...        ...       ...       ...       ...       ...       ...       ...   \n",
      "2795  0.000517  0.000113  0.000065  0.016104  0.103440  0.054146  0.330923   \n",
      "2796  0.000516  0.000113  0.000064  0.016073  0.103003  0.054335  0.330682   \n",
      "2797  0.000515  0.000113  0.000064  0.016043  0.102569  0.054521  0.330439   \n",
      "2798  0.000514  0.000112  0.000064  0.016013  0.102138  0.054706  0.330196   \n",
      "2799  0.000513  0.000112  0.000064  0.015984  0.101710  0.054889  0.329953   \n",
      "\n",
      "           H2O        N2  \n",
      "0     0.070771  0.226288  \n",
      "1     0.071514  0.226050  \n",
      "2     0.072258  0.225813  \n",
      "3     0.073000  0.225577  \n",
      "4     0.073743  0.225341  \n",
      "...        ...       ...  \n",
      "2795  0.152351  0.338256  \n",
      "2796  0.153420  0.337714  \n",
      "2797  0.154487  0.337174  \n",
      "2798  0.155552  0.336636  \n",
      "2799  0.156616  0.336099  \n",
      "\n",
      "[2800 rows x 14 columns]\n"
     ]
    }
   ],
   "source": [
    "# read in our csv data\n",
    "columns = [\n",
    "    \"Bypass Fraction\",\n",
    "    \"NG Steam Ratio\",\n",
    "    \"Steam Flow\",\n",
    "    \"Reformer Duty\",\n",
    "    \"AR\",\n",
    "    \"C2H6\",\n",
    "    \"C3H8\",\n",
    "    \"C4H10\",\n",
    "    \"CH4\",\n",
    "    \"CO\",\n",
    "    \"CO2\",\n",
    "    \"H2\",\n",
    "    \"H2O\",\n",
    "    \"N2\",\n",
    "]\n",
    "df = pd.read_csv(\"../data/reformer.csv\", usecols=columns)\n",
    "print(df)"
   ]
  },
  {
   "cell_type": "code",
   "execution_count": 24,
   "metadata": {
    "pycharm": {
     "name": "#%%\n"
    }
   },
   "outputs": [],
   "source": [
    "# separate the data into inputs and outputs\n",
    "inputs = [\"Bypass Fraction\", \"NG Steam Ratio\"]\n",
    "outputs = [\n",
    "    \"Steam Flow\",\n",
    "    \"Reformer Duty\",\n",
    "    \"AR\",\n",
    "    \"C2H6\",\n",
    "    \"C3H8\",\n",
    "    \"C4H10\",\n",
    "    \"CH4\",\n",
    "    \"CO\",\n",
    "    \"CO2\",\n",
    "    \"H2\",\n",
    "    \"H2O\",\n",
    "    \"N2\",\n",
    "]\n",
    "dfin = df[inputs]\n",
    "dfout = df[outputs]"
   ]
  },
  {
   "cell_type": "code",
   "execution_count": 25,
   "metadata": {
    "pycharm": {
     "name": "#%%\n"
    }
   },
   "outputs": [],
   "source": [
    "# We scale the data for improved training, however, we want to formulate\n",
    "# our optimizaton problem on the original variables. Therefore, we keep\n",
    "# the scaling parameters to use later in our optimization formulation\n",
    "\n",
    "x_offset, x_factor = dfin.mean().to_dict(), dfin.std().to_dict()\n",
    "y_offset, y_factor = dfout.mean().to_dict(), dfout.std().to_dict()\n",
    "\n",
    "dfin = (dfin - dfin.mean()).divide(dfin.std())\n",
    "dfout = (dfout - dfout.mean()).divide(dfout.std())\n",
    "\n",
    "# capture the minimum and maximum values of the scaled inputs\n",
    "# so we don't use the model outside the valid range\n",
    "scaled_lb = dfin.min()[inputs].to_numpy()\n",
    "scaled_ub = dfin.max()[inputs].to_numpy()"
   ]
  },
  {
   "cell_type": "code",
   "execution_count": 26,
   "metadata": {
    "pycharm": {
     "name": "#%%\n"
    }
   },
   "outputs": [
    {
     "name": "stderr",
     "output_type": "stream",
     "text": [
      "/home/codespace/.python/current/lib/python3.10/site-packages/keras/src/layers/core/dense.py:87: UserWarning: Do not pass an `input_shape`/`input_dim` argument to a layer. When using Sequential models, prefer using an `Input(shape)` object as the first layer in the model instead.\n",
      "  super().__init__(activity_regularizer=activity_regularizer, **kwargs)\n"
     ]
    }
   ],
   "source": [
    "# create our Keras Sequential model\n",
    "nn = Sequential(name=\"reformer_sigmoid_4_20\")\n",
    "nn.add(Dense(units=20, input_dim=len(inputs), activation=\"sigmoid\"))\n",
    "nn.add(Dense(units=20, activation=\"sigmoid\"))\n",
    "nn.add(Dense(units=20, activation=\"sigmoid\"))\n",
    "nn.add(Dense(units=20, activation=\"sigmoid\"))\n",
    "nn.add(Dense(units=len(outputs)))\n",
    "nn.compile(optimizer=Adam(), loss=\"mse\")"
   ]
  },
  {
   "cell_type": "code",
   "execution_count": 27,
   "metadata": {
    "pycharm": {
     "name": "#%%\n"
    }
   },
   "outputs": [
    {
     "name": "stdout",
     "output_type": "stream",
     "text": [
      "Epoch 1/100\n",
      "\u001b[1m88/88\u001b[0m \u001b[32m━━━━━━━━━━━━━━━━━━━━\u001b[0m\u001b[37m\u001b[0m \u001b[1m1s\u001b[0m 988us/step - loss: 1.1144\n",
      "Epoch 2/100\n",
      "\u001b[1m88/88\u001b[0m \u001b[32m━━━━━━━━━━━━━━━━━━━━\u001b[0m\u001b[37m\u001b[0m \u001b[1m0s\u001b[0m 914us/step - loss: 0.9900\n",
      "Epoch 3/100\n",
      "\u001b[1m88/88\u001b[0m \u001b[32m━━━━━━━━━━━━━━━━━━━━\u001b[0m\u001b[37m\u001b[0m \u001b[1m0s\u001b[0m 1ms/step - loss: 0.9766\n",
      "Epoch 4/100\n",
      "\u001b[1m88/88\u001b[0m \u001b[32m━━━━━━━━━━━━━━━━━━━━\u001b[0m\u001b[37m\u001b[0m \u001b[1m0s\u001b[0m 1ms/step - loss: 0.8390  \n",
      "Epoch 5/100\n",
      "\u001b[1m88/88\u001b[0m \u001b[32m━━━━━━━━━━━━━━━━━━━━\u001b[0m\u001b[37m\u001b[0m \u001b[1m0s\u001b[0m 930us/step - loss: 0.2823\n",
      "Epoch 6/100\n",
      "\u001b[1m88/88\u001b[0m \u001b[32m━━━━━━━━━━━━━━━━━━━━\u001b[0m\u001b[37m\u001b[0m \u001b[1m0s\u001b[0m 1ms/step - loss: 0.1576  \n",
      "Epoch 7/100\n",
      "\u001b[1m88/88\u001b[0m \u001b[32m━━━━━━━━━━━━━━━━━━━━\u001b[0m\u001b[37m\u001b[0m \u001b[1m0s\u001b[0m 891us/step - loss: 0.1403\n",
      "Epoch 8/100\n",
      "\u001b[1m88/88\u001b[0m \u001b[32m━━━━━━━━━━━━━━━━━━━━\u001b[0m\u001b[37m\u001b[0m \u001b[1m0s\u001b[0m 933us/step - loss: 0.1267\n",
      "Epoch 9/100\n",
      "\u001b[1m88/88\u001b[0m \u001b[32m━━━━━━━━━━━━━━━━━━━━\u001b[0m\u001b[37m\u001b[0m \u001b[1m0s\u001b[0m 898us/step - loss: 0.1145\n",
      "Epoch 10/100\n",
      "\u001b[1m88/88\u001b[0m \u001b[32m━━━━━━━━━━━━━━━━━━━━\u001b[0m\u001b[37m\u001b[0m \u001b[1m0s\u001b[0m 886us/step - loss: 0.1074\n",
      "Epoch 11/100\n",
      "\u001b[1m88/88\u001b[0m \u001b[32m━━━━━━━━━━━━━━━━━━━━\u001b[0m\u001b[37m\u001b[0m \u001b[1m0s\u001b[0m 1ms/step - loss: 0.1041\n",
      "Epoch 12/100\n",
      "\u001b[1m88/88\u001b[0m \u001b[32m━━━━━━━━━━━━━━━━━━━━\u001b[0m\u001b[37m\u001b[0m \u001b[1m0s\u001b[0m 934us/step - loss: 0.1006\n",
      "Epoch 13/100\n",
      "\u001b[1m88/88\u001b[0m \u001b[32m━━━━━━━━━━━━━━━━━━━━\u001b[0m\u001b[37m\u001b[0m \u001b[1m0s\u001b[0m 982us/step - loss: 0.0973\n",
      "Epoch 14/100\n",
      "\u001b[1m88/88\u001b[0m \u001b[32m━━━━━━━━━━━━━━━━━━━━\u001b[0m\u001b[37m\u001b[0m \u001b[1m0s\u001b[0m 909us/step - loss: 0.0939\n",
      "Epoch 15/100\n",
      "\u001b[1m88/88\u001b[0m \u001b[32m━━━━━━━━━━━━━━━━━━━━\u001b[0m\u001b[37m\u001b[0m \u001b[1m0s\u001b[0m 870us/step - loss: 0.0898\n",
      "Epoch 16/100\n",
      "\u001b[1m88/88\u001b[0m \u001b[32m━━━━━━━━━━━━━━━━━━━━\u001b[0m\u001b[37m\u001b[0m \u001b[1m0s\u001b[0m 949us/step - loss: 0.0862\n",
      "Epoch 17/100\n",
      "\u001b[1m88/88\u001b[0m \u001b[32m━━━━━━━━━━━━━━━━━━━━\u001b[0m\u001b[37m\u001b[0m \u001b[1m0s\u001b[0m 2ms/step - loss: 0.0843\n",
      "Epoch 18/100\n",
      "\u001b[1m88/88\u001b[0m \u001b[32m━━━━━━━━━━━━━━━━━━━━\u001b[0m\u001b[37m\u001b[0m \u001b[1m0s\u001b[0m 3ms/step - loss: 0.0815\n",
      "Epoch 19/100\n",
      "\u001b[1m88/88\u001b[0m \u001b[32m━━━━━━━━━━━━━━━━━━━━\u001b[0m\u001b[37m\u001b[0m \u001b[1m1s\u001b[0m 2ms/step - loss: 0.0789\n",
      "Epoch 20/100\n",
      "\u001b[1m88/88\u001b[0m \u001b[32m━━━━━━━━━━━━━━━━━━━━\u001b[0m\u001b[37m\u001b[0m \u001b[1m0s\u001b[0m 3ms/step - loss: 0.0765\n",
      "Epoch 21/100\n",
      "\u001b[1m88/88\u001b[0m \u001b[32m━━━━━━━━━━━━━━━━━━━━\u001b[0m\u001b[37m\u001b[0m \u001b[1m0s\u001b[0m 3ms/step - loss: 0.0726\n",
      "Epoch 22/100\n",
      "\u001b[1m88/88\u001b[0m \u001b[32m━━━━━━━━━━━━━━━━━━━━\u001b[0m\u001b[37m\u001b[0m \u001b[1m0s\u001b[0m 4ms/step - loss: 0.0720\n",
      "Epoch 23/100\n",
      "\u001b[1m88/88\u001b[0m \u001b[32m━━━━━━━━━━━━━━━━━━━━\u001b[0m\u001b[37m\u001b[0m \u001b[1m0s\u001b[0m 2ms/step - loss: 0.0754\n",
      "Epoch 24/100\n",
      "\u001b[1m88/88\u001b[0m \u001b[32m━━━━━━━━━━━━━━━━━━━━\u001b[0m\u001b[37m\u001b[0m \u001b[1m0s\u001b[0m 2ms/step - loss: 0.0705\n",
      "Epoch 25/100\n",
      "\u001b[1m88/88\u001b[0m \u001b[32m━━━━━━━━━━━━━━━━━━━━\u001b[0m\u001b[37m\u001b[0m \u001b[1m0s\u001b[0m 3ms/step - loss: 0.0714\n",
      "Epoch 26/100\n",
      "\u001b[1m88/88\u001b[0m \u001b[32m━━━━━━━━━━━━━━━━━━━━\u001b[0m\u001b[37m\u001b[0m \u001b[1m0s\u001b[0m 3ms/step - loss: 0.0713\n",
      "Epoch 27/100\n",
      "\u001b[1m88/88\u001b[0m \u001b[32m━━━━━━━━━━━━━━━━━━━━\u001b[0m\u001b[37m\u001b[0m \u001b[1m0s\u001b[0m 2ms/step - loss: 0.0709\n",
      "Epoch 28/100\n",
      "\u001b[1m88/88\u001b[0m \u001b[32m━━━━━━━━━━━━━━━━━━━━\u001b[0m\u001b[37m\u001b[0m \u001b[1m0s\u001b[0m 2ms/step - loss: 0.0679\n",
      "Epoch 29/100\n",
      "\u001b[1m88/88\u001b[0m \u001b[32m━━━━━━━━━━━━━━━━━━━━\u001b[0m\u001b[37m\u001b[0m \u001b[1m0s\u001b[0m 3ms/step - loss: 0.0686\n",
      "Epoch 30/100\n",
      "\u001b[1m88/88\u001b[0m \u001b[32m━━━━━━━━━━━━━━━━━━━━\u001b[0m\u001b[37m\u001b[0m \u001b[1m1s\u001b[0m 3ms/step - loss: 0.0672\n",
      "Epoch 31/100\n",
      "\u001b[1m88/88\u001b[0m \u001b[32m━━━━━━━━━━━━━━━━━━━━\u001b[0m\u001b[37m\u001b[0m \u001b[1m0s\u001b[0m 2ms/step - loss: 0.0657\n",
      "Epoch 32/100\n",
      "\u001b[1m88/88\u001b[0m \u001b[32m━━━━━━━━━━━━━━━━━━━━\u001b[0m\u001b[37m\u001b[0m \u001b[1m0s\u001b[0m 3ms/step - loss: 0.0654\n",
      "Epoch 33/100\n",
      "\u001b[1m88/88\u001b[0m \u001b[32m━━━━━━━━━━━━━━━━━━━━\u001b[0m\u001b[37m\u001b[0m \u001b[1m1s\u001b[0m 3ms/step - loss: 0.0631\n",
      "Epoch 34/100\n",
      "\u001b[1m88/88\u001b[0m \u001b[32m━━━━━━━━━━━━━━━━━━━━\u001b[0m\u001b[37m\u001b[0m \u001b[1m0s\u001b[0m 3ms/step - loss: 0.0578\n",
      "Epoch 35/100\n",
      "\u001b[1m88/88\u001b[0m \u001b[32m━━━━━━━━━━━━━━━━━━━━\u001b[0m\u001b[37m\u001b[0m \u001b[1m1s\u001b[0m 3ms/step - loss: 0.0485\n",
      "Epoch 36/100\n",
      "\u001b[1m88/88\u001b[0m \u001b[32m━━━━━━━━━━━━━━━━━━━━\u001b[0m\u001b[37m\u001b[0m \u001b[1m0s\u001b[0m 2ms/step - loss: 0.0336\n",
      "Epoch 37/100\n",
      "\u001b[1m88/88\u001b[0m \u001b[32m━━━━━━━━━━━━━━━━━━━━\u001b[0m\u001b[37m\u001b[0m \u001b[1m0s\u001b[0m 2ms/step - loss: 0.0203\n",
      "Epoch 38/100\n",
      "\u001b[1m88/88\u001b[0m \u001b[32m━━━━━━━━━━━━━━━━━━━━\u001b[0m\u001b[37m\u001b[0m \u001b[1m0s\u001b[0m 2ms/step - loss: 0.0147\n",
      "Epoch 39/100\n",
      "\u001b[1m88/88\u001b[0m \u001b[32m━━━━━━━━━━━━━━━━━━━━\u001b[0m\u001b[37m\u001b[0m \u001b[1m0s\u001b[0m 2ms/step - loss: 0.0113\n",
      "Epoch 40/100\n",
      "\u001b[1m88/88\u001b[0m \u001b[32m━━━━━━━━━━━━━━━━━━━━\u001b[0m\u001b[37m\u001b[0m \u001b[1m0s\u001b[0m 1ms/step - loss: 0.0086  \n",
      "Epoch 41/100\n",
      "\u001b[1m88/88\u001b[0m \u001b[32m━━━━━━━━━━━━━━━━━━━━\u001b[0m\u001b[37m\u001b[0m \u001b[1m0s\u001b[0m 879us/step - loss: 0.0071\n",
      "Epoch 42/100\n",
      "\u001b[1m88/88\u001b[0m \u001b[32m━━━━━━━━━━━━━━━━━━━━\u001b[0m\u001b[37m\u001b[0m \u001b[1m0s\u001b[0m 908us/step - loss: 0.0059\n",
      "Epoch 43/100\n",
      "\u001b[1m88/88\u001b[0m \u001b[32m━━━━━━━━━━━━━━━━━━━━\u001b[0m\u001b[37m\u001b[0m \u001b[1m0s\u001b[0m 945us/step - loss: 0.0052\n",
      "Epoch 44/100\n",
      "\u001b[1m88/88\u001b[0m \u001b[32m━━━━━━━━━━━━━━━━━━━━\u001b[0m\u001b[37m\u001b[0m \u001b[1m0s\u001b[0m 883us/step - loss: 0.0042\n",
      "Epoch 45/100\n",
      "\u001b[1m88/88\u001b[0m \u001b[32m━━━━━━━━━━━━━━━━━━━━\u001b[0m\u001b[37m\u001b[0m \u001b[1m0s\u001b[0m 886us/step - loss: 0.0037\n",
      "Epoch 46/100\n",
      "\u001b[1m88/88\u001b[0m \u001b[32m━━━━━━━━━━━━━━━━━━━━\u001b[0m\u001b[37m\u001b[0m \u001b[1m0s\u001b[0m 901us/step - loss: 0.0035\n",
      "Epoch 47/100\n",
      "\u001b[1m88/88\u001b[0m \u001b[32m━━━━━━━━━━━━━━━━━━━━\u001b[0m\u001b[37m\u001b[0m \u001b[1m0s\u001b[0m 886us/step - loss: 0.0030\n",
      "Epoch 48/100\n",
      "\u001b[1m88/88\u001b[0m \u001b[32m━━━━━━━━━━━━━━━━━━━━\u001b[0m\u001b[37m\u001b[0m \u001b[1m0s\u001b[0m 912us/step - loss: 0.0027\n",
      "Epoch 49/100\n",
      "\u001b[1m88/88\u001b[0m \u001b[32m━━━━━━━━━━━━━━━━━━━━\u001b[0m\u001b[37m\u001b[0m \u001b[1m0s\u001b[0m 891us/step - loss: 0.0027\n",
      "Epoch 50/100\n",
      "\u001b[1m88/88\u001b[0m \u001b[32m━━━━━━━━━━━━━━━━━━━━\u001b[0m\u001b[37m\u001b[0m \u001b[1m0s\u001b[0m 913us/step - loss: 0.0023\n",
      "Epoch 51/100\n",
      "\u001b[1m88/88\u001b[0m \u001b[32m━━━━━━━━━━━━━━━━━━━━\u001b[0m\u001b[37m\u001b[0m \u001b[1m0s\u001b[0m 1ms/step - loss: 0.0021  \n",
      "Epoch 52/100\n",
      "\u001b[1m88/88\u001b[0m \u001b[32m━━━━━━━━━━━━━━━━━━━━\u001b[0m\u001b[37m\u001b[0m \u001b[1m0s\u001b[0m 942us/step - loss: 0.0020\n",
      "Epoch 53/100\n",
      "\u001b[1m88/88\u001b[0m \u001b[32m━━━━━━━━━━━━━━━━━━━━\u001b[0m\u001b[37m\u001b[0m \u001b[1m0s\u001b[0m 913us/step - loss: 0.0019\n",
      "Epoch 54/100\n",
      "\u001b[1m88/88\u001b[0m \u001b[32m━━━━━━━━━━━━━━━━━━━━\u001b[0m\u001b[37m\u001b[0m \u001b[1m0s\u001b[0m 963us/step - loss: 0.0017\n",
      "Epoch 55/100\n",
      "\u001b[1m88/88\u001b[0m \u001b[32m━━━━━━━━━━━━━━━━━━━━\u001b[0m\u001b[37m\u001b[0m \u001b[1m0s\u001b[0m 903us/step - loss: 0.0016\n",
      "Epoch 56/100\n",
      "\u001b[1m88/88\u001b[0m \u001b[32m━━━━━━━━━━━━━━━━━━━━\u001b[0m\u001b[37m\u001b[0m \u001b[1m0s\u001b[0m 966us/step - loss: 0.0015\n",
      "Epoch 57/100\n",
      "\u001b[1m88/88\u001b[0m \u001b[32m━━━━━━━━━━━━━━━━━━━━\u001b[0m\u001b[37m\u001b[0m \u001b[1m0s\u001b[0m 919us/step - loss: 0.0015\n",
      "Epoch 58/100\n",
      "\u001b[1m88/88\u001b[0m \u001b[32m━━━━━━━━━━━━━━━━━━━━\u001b[0m\u001b[37m\u001b[0m \u001b[1m0s\u001b[0m 890us/step - loss: 0.0014\n",
      "Epoch 59/100\n",
      "\u001b[1m88/88\u001b[0m \u001b[32m━━━━━━━━━━━━━━━━━━━━\u001b[0m\u001b[37m\u001b[0m \u001b[1m0s\u001b[0m 910us/step - loss: 0.0012\n",
      "Epoch 60/100\n",
      "\u001b[1m88/88\u001b[0m \u001b[32m━━━━━━━━━━━━━━━━━━━━\u001b[0m\u001b[37m\u001b[0m \u001b[1m0s\u001b[0m 931us/step - loss: 0.0012\n",
      "Epoch 61/100\n",
      "\u001b[1m88/88\u001b[0m \u001b[32m━━━━━━━━━━━━━━━━━━━━\u001b[0m\u001b[37m\u001b[0m \u001b[1m0s\u001b[0m 871us/step - loss: 0.0012  \n",
      "Epoch 62/100\n",
      "\u001b[1m88/88\u001b[0m \u001b[32m━━━━━━━━━━━━━━━━━━━━\u001b[0m\u001b[37m\u001b[0m \u001b[1m0s\u001b[0m 946us/step - loss: 0.0011  \n",
      "Epoch 63/100\n",
      "\u001b[1m88/88\u001b[0m \u001b[32m━━━━━━━━━━━━━━━━━━━━\u001b[0m\u001b[37m\u001b[0m \u001b[1m0s\u001b[0m 919us/step - loss: 0.0011  \n",
      "Epoch 64/100\n",
      "\u001b[1m88/88\u001b[0m \u001b[32m━━━━━━━━━━━━━━━━━━━━\u001b[0m\u001b[37m\u001b[0m \u001b[1m0s\u001b[0m 933us/step - loss: 9.5829e-04\n",
      "Epoch 65/100\n",
      "\u001b[1m88/88\u001b[0m \u001b[32m━━━━━━━━━━━━━━━━━━━━\u001b[0m\u001b[37m\u001b[0m \u001b[1m0s\u001b[0m 910us/step - loss: 9.6994e-04\n",
      "Epoch 66/100\n",
      "\u001b[1m88/88\u001b[0m \u001b[32m━━━━━━━━━━━━━━━━━━━━\u001b[0m\u001b[37m\u001b[0m \u001b[1m0s\u001b[0m 906us/step - loss: 9.0896e-04\n",
      "Epoch 67/100\n",
      "\u001b[1m88/88\u001b[0m \u001b[32m━━━━━━━━━━━━━━━━━━━━\u001b[0m\u001b[37m\u001b[0m \u001b[1m0s\u001b[0m 906us/step - loss: 9.1381e-04\n",
      "Epoch 68/100\n",
      "\u001b[1m88/88\u001b[0m \u001b[32m━━━━━━━━━━━━━━━━━━━━\u001b[0m\u001b[37m\u001b[0m \u001b[1m0s\u001b[0m 896us/step - loss: 8.5913e-04\n",
      "Epoch 69/100\n",
      "\u001b[1m88/88\u001b[0m \u001b[32m━━━━━━━━━━━━━━━━━━━━\u001b[0m\u001b[37m\u001b[0m \u001b[1m0s\u001b[0m 994us/step - loss: 9.0463e-04\n",
      "Epoch 70/100\n",
      "\u001b[1m88/88\u001b[0m \u001b[32m━━━━━━━━━━━━━━━━━━━━\u001b[0m\u001b[37m\u001b[0m \u001b[1m0s\u001b[0m 1ms/step - loss: 8.8907e-04\n",
      "Epoch 71/100\n",
      "\u001b[1m88/88\u001b[0m \u001b[32m━━━━━━━━━━━━━━━━━━━━\u001b[0m\u001b[37m\u001b[0m \u001b[1m0s\u001b[0m 925us/step - loss: 7.9675e-04\n",
      "Epoch 72/100\n",
      "\u001b[1m88/88\u001b[0m \u001b[32m━━━━━━━━━━━━━━━━━━━━\u001b[0m\u001b[37m\u001b[0m \u001b[1m0s\u001b[0m 1ms/step - loss: 7.2875e-04\n",
      "Epoch 73/100\n",
      "\u001b[1m88/88\u001b[0m \u001b[32m━━━━━━━━━━━━━━━━━━━━\u001b[0m\u001b[37m\u001b[0m \u001b[1m0s\u001b[0m 900us/step - loss: 7.3307e-04\n",
      "Epoch 74/100\n",
      "\u001b[1m88/88\u001b[0m \u001b[32m━━━━━━━━━━━━━━━━━━━━\u001b[0m\u001b[37m\u001b[0m \u001b[1m0s\u001b[0m 1ms/step - loss: 6.3824e-04\n",
      "Epoch 75/100\n",
      "\u001b[1m88/88\u001b[0m \u001b[32m━━━━━━━━━━━━━━━━━━━━\u001b[0m\u001b[37m\u001b[0m \u001b[1m0s\u001b[0m 1ms/step - loss: 6.3988e-04  \n",
      "Epoch 76/100\n",
      "\u001b[1m88/88\u001b[0m \u001b[32m━━━━━━━━━━━━━━━━━━━━\u001b[0m\u001b[37m\u001b[0m \u001b[1m0s\u001b[0m 1ms/step - loss: 6.4647e-04\n",
      "Epoch 77/100\n",
      "\u001b[1m88/88\u001b[0m \u001b[32m━━━━━━━━━━━━━━━━━━━━\u001b[0m\u001b[37m\u001b[0m \u001b[1m0s\u001b[0m 898us/step - loss: 5.9410e-04\n",
      "Epoch 78/100\n",
      "\u001b[1m88/88\u001b[0m \u001b[32m━━━━━━━━━━━━━━━━━━━━\u001b[0m\u001b[37m\u001b[0m \u001b[1m0s\u001b[0m 889us/step - loss: 5.9625e-04\n",
      "Epoch 79/100\n",
      "\u001b[1m88/88\u001b[0m \u001b[32m━━━━━━━━━━━━━━━━━━━━\u001b[0m\u001b[37m\u001b[0m \u001b[1m0s\u001b[0m 931us/step - loss: 5.2871e-04\n",
      "Epoch 80/100\n",
      "\u001b[1m88/88\u001b[0m \u001b[32m━━━━━━━━━━━━━━━━━━━━\u001b[0m\u001b[37m\u001b[0m \u001b[1m0s\u001b[0m 1ms/step - loss: 5.6454e-04\n",
      "Epoch 81/100\n",
      "\u001b[1m88/88\u001b[0m \u001b[32m━━━━━━━━━━━━━━━━━━━━\u001b[0m\u001b[37m\u001b[0m \u001b[1m0s\u001b[0m 941us/step - loss: 5.6161e-04\n",
      "Epoch 82/100\n",
      "\u001b[1m88/88\u001b[0m \u001b[32m━━━━━━━━━━━━━━━━━━━━\u001b[0m\u001b[37m\u001b[0m \u001b[1m0s\u001b[0m 890us/step - loss: 5.1684e-04\n",
      "Epoch 83/100\n",
      "\u001b[1m88/88\u001b[0m \u001b[32m━━━━━━━━━━━━━━━━━━━━\u001b[0m\u001b[37m\u001b[0m \u001b[1m0s\u001b[0m 935us/step - loss: 5.1329e-04\n",
      "Epoch 84/100\n",
      "\u001b[1m88/88\u001b[0m \u001b[32m━━━━━━━━━━━━━━━━━━━━\u001b[0m\u001b[37m\u001b[0m \u001b[1m0s\u001b[0m 881us/step - loss: 4.4305e-04\n",
      "Epoch 85/100\n",
      "\u001b[1m88/88\u001b[0m \u001b[32m━━━━━━━━━━━━━━━━━━━━\u001b[0m\u001b[37m\u001b[0m \u001b[1m0s\u001b[0m 902us/step - loss: 4.8435e-04\n",
      "Epoch 86/100\n",
      "\u001b[1m88/88\u001b[0m \u001b[32m━━━━━━━━━━━━━━━━━━━━\u001b[0m\u001b[37m\u001b[0m \u001b[1m0s\u001b[0m 922us/step - loss: 4.2593e-04\n",
      "Epoch 87/100\n",
      "\u001b[1m88/88\u001b[0m \u001b[32m━━━━━━━━━━━━━━━━━━━━\u001b[0m\u001b[37m\u001b[0m \u001b[1m0s\u001b[0m 1ms/step - loss: 4.2300e-04 \n",
      "Epoch 88/100\n",
      "\u001b[1m88/88\u001b[0m \u001b[32m━━━━━━━━━━━━━━━━━━━━\u001b[0m\u001b[37m\u001b[0m \u001b[1m0s\u001b[0m 1ms/step - loss: 4.4135e-04\n",
      "Epoch 89/100\n",
      "\u001b[1m88/88\u001b[0m \u001b[32m━━━━━━━━━━━━━━━━━━━━\u001b[0m\u001b[37m\u001b[0m \u001b[1m0s\u001b[0m 922us/step - loss: 4.1130e-04\n",
      "Epoch 90/100\n",
      "\u001b[1m88/88\u001b[0m \u001b[32m━━━━━━━━━━━━━━━━━━━━\u001b[0m\u001b[37m\u001b[0m \u001b[1m0s\u001b[0m 920us/step - loss: 3.9683e-04\n",
      "Epoch 91/100\n",
      "\u001b[1m88/88\u001b[0m \u001b[32m━━━━━━━━━━━━━━━━━━━━\u001b[0m\u001b[37m\u001b[0m \u001b[1m0s\u001b[0m 904us/step - loss: 3.9107e-04\n",
      "Epoch 92/100\n",
      "\u001b[1m88/88\u001b[0m \u001b[32m━━━━━━━━━━━━━━━━━━━━\u001b[0m\u001b[37m\u001b[0m \u001b[1m0s\u001b[0m 896us/step - loss: 3.5425e-04\n",
      "Epoch 93/100\n",
      "\u001b[1m88/88\u001b[0m \u001b[32m━━━━━━━━━━━━━━━━━━━━\u001b[0m\u001b[37m\u001b[0m \u001b[1m0s\u001b[0m 897us/step - loss: 3.7474e-04\n",
      "Epoch 94/100\n",
      "\u001b[1m88/88\u001b[0m \u001b[32m━━━━━━━━━━━━━━━━━━━━\u001b[0m\u001b[37m\u001b[0m \u001b[1m0s\u001b[0m 905us/step - loss: 3.5553e-04\n",
      "Epoch 95/100\n",
      "\u001b[1m88/88\u001b[0m \u001b[32m━━━━━━━━━━━━━━━━━━━━\u001b[0m\u001b[37m\u001b[0m \u001b[1m0s\u001b[0m 942us/step - loss: 3.5410e-04\n",
      "Epoch 96/100\n",
      "\u001b[1m88/88\u001b[0m \u001b[32m━━━━━━━━━━━━━━━━━━━━\u001b[0m\u001b[37m\u001b[0m \u001b[1m0s\u001b[0m 1ms/step - loss: 3.3268e-04  \n",
      "Epoch 97/100\n",
      "\u001b[1m88/88\u001b[0m \u001b[32m━━━━━━━━━━━━━━━━━━━━\u001b[0m\u001b[37m\u001b[0m \u001b[1m0s\u001b[0m 878us/step - loss: 3.1562e-04\n",
      "Epoch 98/100\n",
      "\u001b[1m88/88\u001b[0m \u001b[32m━━━━━━━━━━━━━━━━━━━━\u001b[0m\u001b[37m\u001b[0m \u001b[1m0s\u001b[0m 1ms/step - loss: 3.0199e-04\n",
      "Epoch 99/100\n",
      "\u001b[1m88/88\u001b[0m \u001b[32m━━━━━━━━━━━━━━━━━━━━\u001b[0m\u001b[37m\u001b[0m \u001b[1m0s\u001b[0m 907us/step - loss: 2.9183e-04\n",
      "Epoch 100/100\n",
      "\u001b[1m88/88\u001b[0m \u001b[32m━━━━━━━━━━━━━━━━━━━━\u001b[0m\u001b[37m\u001b[0m \u001b[1m0s\u001b[0m 907us/step - loss: 2.9824e-04\n"
     ]
    }
   ],
   "source": [
    "# train our model\n",
    "x = dfin.to_numpy()\n",
    "y = dfout.to_numpy()\n",
    "\n",
    "history = nn.fit(x, y, epochs=100)"
   ]
  },
  {
   "cell_type": "code",
   "execution_count": 28,
   "metadata": {
    "pycharm": {
     "name": "#%%\n"
    }
   },
   "outputs": [],
   "source": [
    "# save the model to disk\n",
    "# While not technically necessary, this shows how we can load a previously saved model into\n",
    "# our optimization formulation)\n",
    "nn.save(\"reformer_nn.keras\")"
   ]
  },
  {
   "cell_type": "markdown",
   "metadata": {
    "pycharm": {
     "name": "#%% md\n"
    }
   },
   "source": [
    "## Optimization Problem\n",
    "In this small example, we will formulate a simple optimization problem that seeks to maximize the concentration of Hydrogen in the outlet while placing an upper bound on the Nitrogen concentration."
   ]
  },
  {
   "cell_type": "code",
   "execution_count": 29,
   "metadata": {
    "pycharm": {
     "name": "#%%\n"
    }
   },
   "outputs": [],
   "source": [
    "# first, create the Pyomo model\n",
    "m = pyo.ConcreteModel()"
   ]
  },
  {
   "cell_type": "code",
   "execution_count": 30,
   "metadata": {
    "pycharm": {
     "name": "#%%\n"
    }
   },
   "outputs": [],
   "source": [
    "# create the OmltBlock to hold the neural network model\n",
    "m.reformer = OmltBlock()"
   ]
  },
  {
   "cell_type": "code",
   "execution_count": 31,
   "metadata": {
    "pycharm": {
     "name": "#%%\n"
    }
   },
   "outputs": [],
   "source": [
    "# load the Keras model\n",
    "nn_reformer = keras.models.load_model(\"reformer_nn.keras\", compile=False)\n",
    "\n",
    "# Note: The neural network is in the scaled space. We want access to the\n",
    "# variables in the unscaled space. Therefore, we need to tell OMLT about the\n",
    "# scaling factors\n",
    "scaler = OffsetScaling(\n",
    "    offset_inputs={i: x_offset[inputs[i]] for i in range(len(inputs))},\n",
    "    factor_inputs={i: x_factor[inputs[i]] for i in range(len(inputs))},\n",
    "    offset_outputs={i: y_offset[outputs[i]] for i in range(len(outputs))},\n",
    "    factor_outputs={i: y_factor[outputs[i]] for i in range(len(outputs))},\n",
    ")\n",
    "\n",
    "scaled_input_bounds = {i: (scaled_lb[i], scaled_ub[i]) for i in range(len(inputs))}\n",
    "\n",
    "# create a network definition from the Keras model\n",
    "net = load_keras_sequential(\n",
    "    nn_reformer, scaling_object=scaler, scaled_input_bounds=scaled_input_bounds\n",
    ")\n",
    "\n",
    "# create the variables and constraints for the neural network in Pyomo\n",
    "m.reformer.build_formulation(FullSpaceSmoothNNFormulation(net))"
   ]
  },
  {
   "cell_type": "code",
   "execution_count": 32,
   "metadata": {
    "pycharm": {
     "name": "#%%\n"
    }
   },
   "outputs": [],
   "source": [
    "# now add the objective and the constraints\n",
    "h2_idx = outputs.index(\"H2\")\n",
    "n2_idx = outputs.index(\"N2\")\n",
    "m.obj = pyo.Objective(expr=m.reformer.outputs[h2_idx], sense=pyo.maximize)\n",
    "m.con = pyo.Constraint(expr=m.reformer.outputs[n2_idx] <= 0.34)"
   ]
  },
  {
   "cell_type": "code",
   "execution_count": 33,
   "metadata": {
    "pycharm": {
     "name": "#%%\n"
    }
   },
   "outputs": [
    {
     "name": "stdout",
     "output_type": "stream",
     "text": [
      "Ipopt 3.14.16: \n",
      "\n",
      "******************************************************************************\n",
      "This program contains Ipopt, a library for large-scale nonlinear optimization.\n",
      " Ipopt is released as open source code under the Eclipse Public License (EPL).\n",
      "         For more information visit https://github.com/coin-or/Ipopt\n",
      "******************************************************************************\n",
      "\n",
      "This is Ipopt version 3.14.16, running with linear solver MUMPS 5.7.1.\n",
      "\n",
      "Number of nonzeros in equality constraint Jacobian...:     1812\n",
      "Number of nonzeros in inequality constraint Jacobian.:        1\n",
      "Number of nonzeros in Lagrangian Hessian.............:       80\n",
      "\n",
      "Total number of variables............................:      214\n",
      "                     variables with only lower bounds:        0\n",
      "                variables with lower and upper bounds:      190\n",
      "                     variables with only upper bounds:        0\n",
      "Total number of equality constraints.................:      212\n",
      "Total number of inequality constraints...............:        1\n",
      "        inequality constraints with only lower bounds:        0\n",
      "   inequality constraints with lower and upper bounds:        0\n",
      "        inequality constraints with only upper bounds:        1\n",
      "\n",
      "iter    objective    inf_pr   inf_du lg(mu)  ||d||  lg(rg) alpha_du alpha_pr  ls\n",
      "   0 -0.0000000e+00 2.32e+04 3.10e-04  -1.0 0.00e+00    -  0.00e+00 0.00e+00   0\n",
      "   1 -3.1527294e-03 2.29e+04 1.04e+00  -1.0 1.12e+03    -  6.41e-03 1.32e-02f  1\n",
      "   2 -6.2152944e-03 2.27e+04 5.37e+00  -1.0 2.29e+04    -  1.61e-02 8.91e-03f  1\n",
      "   3 -6.2618863e-03 2.27e+04 2.13e+02  -1.0 7.53e+03    -  1.53e-02 2.94e-04h  1\n",
      "   4 -6.2980596e-03 2.26e+04 9.10e+02  -1.0 1.95e+01    -  2.38e-03 4.06e-04h  1\n",
      "   5 -6.3144679e-03 2.26e+04 6.08e+04  -1.0 2.09e+04    -  2.93e-03 4.46e-05h  1\n",
      "   6 -6.3198672e-03 2.26e+04 1.26e+07  -1.0 2.32e+04    -  2.81e-03 1.37e-05h  1\n",
      "   7r-6.3198672e-03 2.26e+04 9.99e+02   2.5 0.00e+00    -  0.00e+00 7.31e-08R  2\n",
      "   8r-6.0332788e-03 2.19e+04 1.92e+03   2.5 3.55e+04    -  1.19e-02 2.52e-04f  1\n",
      "   9r-8.0808049e-03 2.08e+02 1.76e+03   1.1 5.87e+04    -  7.19e-04 4.73e-03f  1\n",
      "iter    objective    inf_pr   inf_du lg(mu)  ||d||  lg(rg) alpha_du alpha_pr  ls\n",
      "  10 -8.1576012e-03 2.08e+02 4.95e+00  -1.0 1.79e+04    -  1.23e-03 2.37e-04h  1\n",
      "  11 -8.1674126e-03 2.08e+02 2.15e+03  -1.0 4.50e+03    -  1.60e-02 6.30e-05h  1\n",
      "  12 -8.1719233e-03 2.08e+02 1.11e+06  -1.0 1.83e+04    -  6.31e-03 1.19e-05h  1\n",
      "  13r-8.1719233e-03 2.08e+02 9.99e+02   0.4 0.00e+00    -  0.00e+00 2.36e-07R  2\n",
      "  14r-3.6071845e-02 1.98e+00 1.00e+03   0.4 5.28e+03    -  1.04e-04 1.00e-03f  1\n",
      "  15r-3.6071845e-02 1.98e+00 9.99e+02   0.3 0.00e+00    -  0.00e+00 3.75e-07R  5\n",
      "  16r-6.1605099e-02 1.96e+00 9.98e+02   0.3 6.30e+03    -  1.02e-03 8.08e-04f  1\n",
      "  17r-1.2559031e-01 1.90e+00 9.97e+02   0.3 6.27e+03    -  7.32e-04 2.51e-03f  1\n",
      "  18 -1.2871206e-01 1.85e+00 9.78e-01  -1.0 1.02e+04    -  2.09e-02 2.20e-02f  1\n",
      "  19 -1.3332528e-01 1.81e+00 1.24e+01  -1.0 2.11e+04    -  6.42e-02 2.50e-02f  1\n",
      "iter    objective    inf_pr   inf_du lg(mu)  ||d||  lg(rg) alpha_du alpha_pr  ls\n",
      "  20 -1.3461035e-01 1.79e+00 5.73e+01  -1.0 1.41e+04    -  6.22e-02 1.16e-02h  1\n",
      "  21 -1.3467457e-01 1.79e+00 3.24e+03  -1.0 1.34e+04    -  4.47e-02 4.13e-04h  1\n",
      "  22 -1.3484205e-01 1.78e+00 8.30e+04  -1.0 4.52e+03    -  2.40e-02 9.45e-04h  1\n",
      "  23 -1.3484927e-01 1.78e+00 2.78e+07  -1.0 5.88e+02    -  1.33e-02 4.05e-05h  1\n",
      "  24r-1.3484927e-01 1.78e+00 9.99e+02   0.2 0.00e+00    -  0.00e+00 2.10e-07R  2\n",
      "  25r-1.4779559e-01 1.76e+00 9.98e+02   0.2 1.43e+05    -  1.55e-03 9.11e-04f  1\n",
      "  26r-1.9083218e-01 1.67e+00 9.94e+02   0.2 1.43e+05    -  3.50e-03 3.83e-03f  1\n",
      "  27 -2.3722606e-01 7.32e-01 4.81e+03  -1.0 1.68e+04    -  1.29e-02 5.61e-01f  1\n",
      "  28 -2.3903999e-01 4.88e-01 2.89e+03  -1.0 1.73e+00   2.0 1.36e-02 3.33e-01f  1\n",
      "  29 -2.3894926e-01 4.79e-01 2.87e+03  -1.0 1.29e+00   1.5 3.00e-01 2.03e-02h  1\n",
      "iter    objective    inf_pr   inf_du lg(mu)  ||d||  lg(rg) alpha_du alpha_pr  ls\n",
      "  30 -2.3851472e-01 4.74e-01 5.90e+04  -1.0 3.67e+00   1.0 3.11e-01 1.02e-02h  1\n",
      "  31 -2.3168898e-01 3.98e-01 4.74e+04  -1.0 3.70e+00   0.6 4.40e-01 1.59e-01h  1\n",
      "  32 -2.2358201e-01 1.15e-01 2.59e+04  -1.0 3.45e+02    -  4.72e-01 7.11e-01h  1\n",
      "  33 -2.1064898e-01 7.56e-02 1.41e+04  -1.0 2.37e+03    -  4.40e-01 3.44e-01h  1\n",
      "  34 -2.1047547e-01 7.53e-02 1.38e+04  -1.0 2.38e+03    -  1.08e-02 4.64e-03h  1\n",
      "  35 -2.0536031e-01 5.73e-02 1.98e+04  -1.0 2.26e+03    -  2.46e-02 2.39e-01f  1\n",
      "  36 -2.0531335e-01 5.70e-02 1.83e+04  -1.0 2.21e+03    -  2.35e-02 3.90e-03h  1\n",
      "  37 -2.0667730e-01 7.73e-02 2.31e+04  -1.0 2.13e+03    -  7.16e-02 4.18e-01f  1\n",
      "  38 -2.0667907e-01 7.73e-02 5.57e+03  -1.0 1.36e+03    -  2.17e-01 2.13e-04h  6\n",
      "  39 -2.0674307e-01 7.64e-02 6.46e+03  -1.0 8.11e+01    -  1.94e-03 1.25e-02f  2\n",
      "iter    objective    inf_pr   inf_du lg(mu)  ||d||  lg(rg) alpha_du alpha_pr  ls\n",
      "  40 -2.1130252e-01 3.51e-03 1.28e+03  -1.0 7.01e+02    -  1.41e-01 1.00e+00f  1\n",
      "  41 -2.1107713e-01 3.05e-03 1.20e+02  -1.0 1.69e+02    -  4.83e-01 1.00e+00f  1\n",
      "  42 -2.1118142e-01 4.58e-03 3.62e+01  -1.0 2.69e+02    -  7.13e-01 1.00e+00f  1\n",
      "  43 -2.2385213e-01 5.24e-03 2.45e+01  -1.0 9.72e+02    -  1.70e-01 1.00e+00f  1\n",
      "  44 -2.4208782e-01 1.30e-02 1.17e+01  -1.0 1.46e+03    -  6.06e-01 1.00e+00f  1\n",
      "  45 -2.7496917e-01 5.99e-02 3.53e+00  -1.0 3.32e+03    -  6.81e-01 1.00e+00f  1\n",
      "  46 -2.8094542e-01 5.97e-03 4.74e-02  -1.0 1.89e+03    -  1.00e+00 1.00e+00f  1\n",
      "  47 -2.8143139e-01 9.21e-05 2.35e-01  -2.5 2.25e+02    -  9.43e-01 1.00e+00h  1\n",
      "  48 -2.8471889e-01 5.06e-04 1.52e-03  -2.5 5.87e+02    -  1.00e+00 1.00e+00h  1\n",
      "  49 -2.9285237e-01 3.11e-03 1.78e-02  -3.8 1.51e+03    -  8.18e-01 1.00e+00h  1\n",
      "iter    objective    inf_pr   inf_du lg(mu)  ||d||  lg(rg) alpha_du alpha_pr  ls\n",
      "  50 -3.1047007e-01 1.68e-02 6.69e-04  -3.8 3.61e+03    -  1.00e+00 9.82e-01h  1\n",
      "  51 -3.1805376e-01 7.91e-03 3.86e-03  -3.8 3.08e+03    -  1.00e+00 1.00e+00h  1\n",
      "  52 -3.2496988e-01 1.07e-02 2.10e-01  -3.8 4.72e+03    -  1.00e+00 4.42e-01h  1\n",
      "  53 -3.2596317e-01 1.38e-02 1.13e+00  -3.8 2.85e+03    -  4.77e-01 1.00e+00h  1\n",
      "  54 -3.2609714e-01 2.18e-03 1.21e-04  -3.8 8.58e+02    -  1.00e+00 1.00e+00h  1\n",
      "  55 -3.2634535e-01 2.20e-05 3.62e-07  -3.8 1.59e+02    -  1.00e+00 1.00e+00h  1\n",
      "  56 -3.2840186e-01 5.71e-03 4.99e-02  -5.7 4.39e+03    -  6.38e-01 4.96e-01h  1\n",
      "  57 -3.3229603e-01 2.85e-02 7.58e-03  -5.7 7.33e+03    -  6.50e-01 7.37e-01h  1\n",
      "  58 -3.3222233e-01 2.04e-02 2.60e-02  -5.7 8.51e+01    -  5.17e-01 2.82e-01h  1\n",
      "  59 -3.3182603e-01 2.03e-04 2.60e-01  -5.7 3.64e+02    -  6.85e-02 1.00e+00h  1\n",
      "iter    objective    inf_pr   inf_du lg(mu)  ||d||  lg(rg) alpha_du alpha_pr  ls\n",
      "  60 -3.3184336e-01 2.96e-05 2.87e-02  -5.7 3.19e+01    -  1.00e+00 8.56e-01h  1\n",
      "  61 -3.3183702e-01 5.23e-08 6.23e+01  -5.7 9.02e+00    -  3.66e-04 1.00e+00f  1\n",
      "  62 -3.3183667e-01 1.66e-10 1.84e-11  -5.7 4.99e-01    -  1.00e+00 1.00e+00h  1\n",
      "  63 -3.3184437e-01 3.06e-08 6.72e-04  -8.6 8.36e+00    -  1.00e+00 9.15e-01h  1\n",
      "  64 -3.3184455e-01 9.27e-11 2.88e-02  -8.6 1.50e-01    -  4.59e-01 1.00e+00f  1\n",
      "  65 -3.3184455e-01 1.89e-15 2.51e-14  -8.6 5.16e-04    -  1.00e+00 1.00e+00h  1\n",
      "\n",
      "Number of Iterations....: 65\n",
      "\n",
      "                                   (scaled)                 (unscaled)\n",
      "Objective...............:  -3.3184454733260904e-01   -3.3184454733260904e-01\n",
      "Dual infeasibility......:   2.5091040356528538e-14    2.5091040356528538e-14\n",
      "Constraint violation....:   1.8873791418627661e-15    1.8873791418627661e-15\n",
      "Variable bound violation:   0.0000000000000000e+00    0.0000000000000000e+00\n",
      "Complementarity.........:   2.6249489091631699e-09    2.6249489091631699e-09\n",
      "Overall NLP error.......:   2.6249489091631699e-09    2.6249489091631699e-09\n",
      "\n",
      "\n",
      "Number of objective function evaluations             = 83\n",
      "Number of objective gradient evaluations             = 63\n",
      "Number of equality constraint evaluations            = 83\n",
      "Number of inequality constraint evaluations          = 83\n",
      "Number of equality constraint Jacobian evaluations   = 70\n",
      "Number of inequality constraint Jacobian evaluations = 70\n",
      "Number of Lagrangian Hessian evaluations             = 65\n",
      "Total seconds in IPOPT                               = 0.094\n",
      "\n",
      "EXIT: Optimal Solution Found.\n",
      "\b"
     ]
    }
   ],
   "source": [
    "# now solve the optimization problem\n",
    "solver = pyo.SolverFactory(\"ipopt\")\n",
    "status = solver.solve(m, tee=True)"
   ]
  },
  {
   "cell_type": "code",
   "execution_count": 34,
   "metadata": {
    "pycharm": {
     "name": "#%%\n"
    }
   },
   "outputs": [
    {
     "name": "stdout",
     "output_type": "stream",
     "text": [
      "Bypass Fraction: 0.1000002111229052\n",
      "NG Steam Ratio: 1.1131313973800456\n",
      "H2 Concentration: 0.33184454733260904\n",
      "N2 Concentration: 0.3400000044198399\n"
     ]
    }
   ],
   "source": [
    "print(\"Bypass Fraction:\", pyo.value(m.reformer.inputs[0]))\n",
    "print(\"NG Steam Ratio:\", pyo.value(m.reformer.inputs[1]))\n",
    "print(\"H2 Concentration:\", pyo.value(m.reformer.outputs[h2_idx]))\n",
    "print(\"N2 Concentration:\", pyo.value(m.reformer.outputs[n2_idx]))"
   ]
  }
 ],
 "metadata": {
  "kernelspec": {
   "display_name": "Python 3 (ipykernel)",
   "language": "python",
   "name": "python3"
  },
  "language_info": {
   "codemirror_mode": {
    "name": "ipython",
    "version": 3
   },
   "file_extension": ".py",
   "mimetype": "text/x-python",
   "name": "python",
   "nbconvert_exporter": "python",
   "pygments_lexer": "ipython3",
   "version": "3.10.13"
  }
 },
 "nbformat": 4,
 "nbformat_minor": 4
}
